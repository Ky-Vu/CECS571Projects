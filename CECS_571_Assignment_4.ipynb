{
  "nbformat": 4,
  "nbformat_minor": 0,
  "metadata": {
    "colab": {
      "provenance": []
    },
    "kernelspec": {
      "name": "python3",
      "display_name": "Python 3"
    },
    "language_info": {
      "name": "python"
    }
  },
  "cells": [
    {
      "cell_type": "code",
      "execution_count": null,
      "metadata": {
        "colab": {
          "base_uri": "https://localhost:8080/",
          "height": 1000
        },
        "id": "tWXdiVGY5iQL",
        "outputId": "7e95c1aa-4201-4402-ac18-97674d6908b7"
      },
      "outputs": [
        {
          "output_type": "stream",
          "name": "stdout",
          "text": [
            "Leonard Simon Nimoy was born in Boston.\n",
            "Leonard PROPN compound\n",
            "Simon PROPN compound\n",
            "Nimoy PROPN nsubjpass\n",
            "was AUX auxpass\n",
            "born VERB ROOT\n",
            "in ADP prep\n",
            "Boston PROPN pobj\n",
            ". PUNCT punct\n",
            "Nimoy played Spock.\n",
            "Nimoy NOUN nsubj\n",
            "played VERB ROOT\n",
            "Spock PROPN dobj\n",
            ". PUNCT punct\n",
            "Spock is a character in the Star Trek franchise.\n",
            "Spock NOUN nsubj\n",
            "is AUX ROOT\n",
            "a DET det\n",
            "character NOUN attr\n",
            "in ADP prep\n",
            "the DET det\n",
            "Star PROPN compound\n",
            "Trek PROPN compound\n",
            "franchise NOUN pobj\n",
            ". PUNCT punct\n",
            "Star Trek was created by the great Eugene Wesley Roddenberry.\n",
            "Star PROPN compound\n",
            "Trek PROPN nsubjpass\n",
            "was AUX auxpass\n",
            "created VERB ROOT\n",
            "by ADP agent\n",
            "the DET det\n",
            "great ADJ amod\n",
            "Eugene PROPN compound\n",
            "Wesley PROPN compound\n",
            "Roddenberry PROPN pobj\n",
            ". PUNCT punct\n"
          ]
        },
        {
          "output_type": "display_data",
          "data": {
            "text/plain": [
              "<IPython.core.display.HTML object>"
            ],
            "text/html": [
              "<span class=\"tex2jax_ignore\"><svg xmlns=\"http://www.w3.org/2000/svg\" xmlns:xlink=\"http://www.w3.org/1999/xlink\" xml:lang=\"en\" id=\"9b70f905732545c5a83eb5e9575413a5-0\" class=\"displacy\" width=\"1800\" height=\"574.5\" direction=\"ltr\" style=\"max-width: none; height: 574.5px; color: #000000; background: #ffffff; font-family: Arial; direction: ltr\">\n",
              "<text class=\"displacy-token\" fill=\"currentColor\" text-anchor=\"middle\" y=\"484.5\">\n",
              "    <tspan class=\"displacy-word\" fill=\"currentColor\" x=\"50\">Star</tspan>\n",
              "    <tspan class=\"displacy-tag\" dy=\"2em\" fill=\"currentColor\" x=\"50\">PROPN</tspan>\n",
              "</text>\n",
              "\n",
              "<text class=\"displacy-token\" fill=\"currentColor\" text-anchor=\"middle\" y=\"484.5\">\n",
              "    <tspan class=\"displacy-word\" fill=\"currentColor\" x=\"225\">Trek</tspan>\n",
              "    <tspan class=\"displacy-tag\" dy=\"2em\" fill=\"currentColor\" x=\"225\">PROPN</tspan>\n",
              "</text>\n",
              "\n",
              "<text class=\"displacy-token\" fill=\"currentColor\" text-anchor=\"middle\" y=\"484.5\">\n",
              "    <tspan class=\"displacy-word\" fill=\"currentColor\" x=\"400\">was</tspan>\n",
              "    <tspan class=\"displacy-tag\" dy=\"2em\" fill=\"currentColor\" x=\"400\">AUX</tspan>\n",
              "</text>\n",
              "\n",
              "<text class=\"displacy-token\" fill=\"currentColor\" text-anchor=\"middle\" y=\"484.5\">\n",
              "    <tspan class=\"displacy-word\" fill=\"currentColor\" x=\"575\">created</tspan>\n",
              "    <tspan class=\"displacy-tag\" dy=\"2em\" fill=\"currentColor\" x=\"575\">VERB</tspan>\n",
              "</text>\n",
              "\n",
              "<text class=\"displacy-token\" fill=\"currentColor\" text-anchor=\"middle\" y=\"484.5\">\n",
              "    <tspan class=\"displacy-word\" fill=\"currentColor\" x=\"750\">by</tspan>\n",
              "    <tspan class=\"displacy-tag\" dy=\"2em\" fill=\"currentColor\" x=\"750\">ADP</tspan>\n",
              "</text>\n",
              "\n",
              "<text class=\"displacy-token\" fill=\"currentColor\" text-anchor=\"middle\" y=\"484.5\">\n",
              "    <tspan class=\"displacy-word\" fill=\"currentColor\" x=\"925\">the</tspan>\n",
              "    <tspan class=\"displacy-tag\" dy=\"2em\" fill=\"currentColor\" x=\"925\">DET</tspan>\n",
              "</text>\n",
              "\n",
              "<text class=\"displacy-token\" fill=\"currentColor\" text-anchor=\"middle\" y=\"484.5\">\n",
              "    <tspan class=\"displacy-word\" fill=\"currentColor\" x=\"1100\">great</tspan>\n",
              "    <tspan class=\"displacy-tag\" dy=\"2em\" fill=\"currentColor\" x=\"1100\">ADJ</tspan>\n",
              "</text>\n",
              "\n",
              "<text class=\"displacy-token\" fill=\"currentColor\" text-anchor=\"middle\" y=\"484.5\">\n",
              "    <tspan class=\"displacy-word\" fill=\"currentColor\" x=\"1275\">Eugene</tspan>\n",
              "    <tspan class=\"displacy-tag\" dy=\"2em\" fill=\"currentColor\" x=\"1275\">PROPN</tspan>\n",
              "</text>\n",
              "\n",
              "<text class=\"displacy-token\" fill=\"currentColor\" text-anchor=\"middle\" y=\"484.5\">\n",
              "    <tspan class=\"displacy-word\" fill=\"currentColor\" x=\"1450\">Wesley</tspan>\n",
              "    <tspan class=\"displacy-tag\" dy=\"2em\" fill=\"currentColor\" x=\"1450\">PROPN</tspan>\n",
              "</text>\n",
              "\n",
              "<text class=\"displacy-token\" fill=\"currentColor\" text-anchor=\"middle\" y=\"484.5\">\n",
              "    <tspan class=\"displacy-word\" fill=\"currentColor\" x=\"1625\">Roddenberry.</tspan>\n",
              "    <tspan class=\"displacy-tag\" dy=\"2em\" fill=\"currentColor\" x=\"1625\">PROPN</tspan>\n",
              "</text>\n",
              "\n",
              "<g class=\"displacy-arrow\">\n",
              "    <path class=\"displacy-arc\" id=\"arrow-9b70f905732545c5a83eb5e9575413a5-0-0\" stroke-width=\"2px\" d=\"M70,439.5 C70,352.0 205.0,352.0 205.0,439.5\" fill=\"none\" stroke=\"currentColor\"/>\n",
              "    <text dy=\"1.25em\" style=\"font-size: 0.8em; letter-spacing: 1px\">\n",
              "        <textPath xlink:href=\"#arrow-9b70f905732545c5a83eb5e9575413a5-0-0\" class=\"displacy-label\" startOffset=\"50%\" side=\"left\" fill=\"currentColor\" text-anchor=\"middle\">compound</textPath>\n",
              "    </text>\n",
              "    <path class=\"displacy-arrowhead\" d=\"M70,441.5 L62,429.5 78,429.5\" fill=\"currentColor\"/>\n",
              "</g>\n",
              "\n",
              "<g class=\"displacy-arrow\">\n",
              "    <path class=\"displacy-arc\" id=\"arrow-9b70f905732545c5a83eb5e9575413a5-0-1\" stroke-width=\"2px\" d=\"M245,439.5 C245,264.5 560.0,264.5 560.0,439.5\" fill=\"none\" stroke=\"currentColor\"/>\n",
              "    <text dy=\"1.25em\" style=\"font-size: 0.8em; letter-spacing: 1px\">\n",
              "        <textPath xlink:href=\"#arrow-9b70f905732545c5a83eb5e9575413a5-0-1\" class=\"displacy-label\" startOffset=\"50%\" side=\"left\" fill=\"currentColor\" text-anchor=\"middle\">nsubjpass</textPath>\n",
              "    </text>\n",
              "    <path class=\"displacy-arrowhead\" d=\"M245,441.5 L237,429.5 253,429.5\" fill=\"currentColor\"/>\n",
              "</g>\n",
              "\n",
              "<g class=\"displacy-arrow\">\n",
              "    <path class=\"displacy-arc\" id=\"arrow-9b70f905732545c5a83eb5e9575413a5-0-2\" stroke-width=\"2px\" d=\"M420,439.5 C420,352.0 555.0,352.0 555.0,439.5\" fill=\"none\" stroke=\"currentColor\"/>\n",
              "    <text dy=\"1.25em\" style=\"font-size: 0.8em; letter-spacing: 1px\">\n",
              "        <textPath xlink:href=\"#arrow-9b70f905732545c5a83eb5e9575413a5-0-2\" class=\"displacy-label\" startOffset=\"50%\" side=\"left\" fill=\"currentColor\" text-anchor=\"middle\">auxpass</textPath>\n",
              "    </text>\n",
              "    <path class=\"displacy-arrowhead\" d=\"M420,441.5 L412,429.5 428,429.5\" fill=\"currentColor\"/>\n",
              "</g>\n",
              "\n",
              "<g class=\"displacy-arrow\">\n",
              "    <path class=\"displacy-arc\" id=\"arrow-9b70f905732545c5a83eb5e9575413a5-0-3\" stroke-width=\"2px\" d=\"M595,439.5 C595,352.0 730.0,352.0 730.0,439.5\" fill=\"none\" stroke=\"currentColor\"/>\n",
              "    <text dy=\"1.25em\" style=\"font-size: 0.8em; letter-spacing: 1px\">\n",
              "        <textPath xlink:href=\"#arrow-9b70f905732545c5a83eb5e9575413a5-0-3\" class=\"displacy-label\" startOffset=\"50%\" side=\"left\" fill=\"currentColor\" text-anchor=\"middle\">agent</textPath>\n",
              "    </text>\n",
              "    <path class=\"displacy-arrowhead\" d=\"M730.0,441.5 L738.0,429.5 722.0,429.5\" fill=\"currentColor\"/>\n",
              "</g>\n",
              "\n",
              "<g class=\"displacy-arrow\">\n",
              "    <path class=\"displacy-arc\" id=\"arrow-9b70f905732545c5a83eb5e9575413a5-0-4\" stroke-width=\"2px\" d=\"M945,439.5 C945,89.5 1620.0,89.5 1620.0,439.5\" fill=\"none\" stroke=\"currentColor\"/>\n",
              "    <text dy=\"1.25em\" style=\"font-size: 0.8em; letter-spacing: 1px\">\n",
              "        <textPath xlink:href=\"#arrow-9b70f905732545c5a83eb5e9575413a5-0-4\" class=\"displacy-label\" startOffset=\"50%\" side=\"left\" fill=\"currentColor\" text-anchor=\"middle\">det</textPath>\n",
              "    </text>\n",
              "    <path class=\"displacy-arrowhead\" d=\"M945,441.5 L937,429.5 953,429.5\" fill=\"currentColor\"/>\n",
              "</g>\n",
              "\n",
              "<g class=\"displacy-arrow\">\n",
              "    <path class=\"displacy-arc\" id=\"arrow-9b70f905732545c5a83eb5e9575413a5-0-5\" stroke-width=\"2px\" d=\"M1120,439.5 C1120,177.0 1615.0,177.0 1615.0,439.5\" fill=\"none\" stroke=\"currentColor\"/>\n",
              "    <text dy=\"1.25em\" style=\"font-size: 0.8em; letter-spacing: 1px\">\n",
              "        <textPath xlink:href=\"#arrow-9b70f905732545c5a83eb5e9575413a5-0-5\" class=\"displacy-label\" startOffset=\"50%\" side=\"left\" fill=\"currentColor\" text-anchor=\"middle\">amod</textPath>\n",
              "    </text>\n",
              "    <path class=\"displacy-arrowhead\" d=\"M1120,441.5 L1112,429.5 1128,429.5\" fill=\"currentColor\"/>\n",
              "</g>\n",
              "\n",
              "<g class=\"displacy-arrow\">\n",
              "    <path class=\"displacy-arc\" id=\"arrow-9b70f905732545c5a83eb5e9575413a5-0-6\" stroke-width=\"2px\" d=\"M1295,439.5 C1295,264.5 1610.0,264.5 1610.0,439.5\" fill=\"none\" stroke=\"currentColor\"/>\n",
              "    <text dy=\"1.25em\" style=\"font-size: 0.8em; letter-spacing: 1px\">\n",
              "        <textPath xlink:href=\"#arrow-9b70f905732545c5a83eb5e9575413a5-0-6\" class=\"displacy-label\" startOffset=\"50%\" side=\"left\" fill=\"currentColor\" text-anchor=\"middle\">compound</textPath>\n",
              "    </text>\n",
              "    <path class=\"displacy-arrowhead\" d=\"M1295,441.5 L1287,429.5 1303,429.5\" fill=\"currentColor\"/>\n",
              "</g>\n",
              "\n",
              "<g class=\"displacy-arrow\">\n",
              "    <path class=\"displacy-arc\" id=\"arrow-9b70f905732545c5a83eb5e9575413a5-0-7\" stroke-width=\"2px\" d=\"M1470,439.5 C1470,352.0 1605.0,352.0 1605.0,439.5\" fill=\"none\" stroke=\"currentColor\"/>\n",
              "    <text dy=\"1.25em\" style=\"font-size: 0.8em; letter-spacing: 1px\">\n",
              "        <textPath xlink:href=\"#arrow-9b70f905732545c5a83eb5e9575413a5-0-7\" class=\"displacy-label\" startOffset=\"50%\" side=\"left\" fill=\"currentColor\" text-anchor=\"middle\">compound</textPath>\n",
              "    </text>\n",
              "    <path class=\"displacy-arrowhead\" d=\"M1470,441.5 L1462,429.5 1478,429.5\" fill=\"currentColor\"/>\n",
              "</g>\n",
              "\n",
              "<g class=\"displacy-arrow\">\n",
              "    <path class=\"displacy-arc\" id=\"arrow-9b70f905732545c5a83eb5e9575413a5-0-8\" stroke-width=\"2px\" d=\"M770,439.5 C770,2.0 1625.0,2.0 1625.0,439.5\" fill=\"none\" stroke=\"currentColor\"/>\n",
              "    <text dy=\"1.25em\" style=\"font-size: 0.8em; letter-spacing: 1px\">\n",
              "        <textPath xlink:href=\"#arrow-9b70f905732545c5a83eb5e9575413a5-0-8\" class=\"displacy-label\" startOffset=\"50%\" side=\"left\" fill=\"currentColor\" text-anchor=\"middle\">pobj</textPath>\n",
              "    </text>\n",
              "    <path class=\"displacy-arrowhead\" d=\"M1625.0,441.5 L1633.0,429.5 1617.0,429.5\" fill=\"currentColor\"/>\n",
              "</g>\n",
              "</svg></span>"
            ]
          },
          "metadata": {}
        }
      ],
      "source": [
        "# By: Thomas Vugia\n",
        "# ID# 013580942\n",
        "\n",
        "import spacy, pandas as pd\n",
        "from spacy import displacy\n",
        "\n",
        "nlp = spacy.load(\"en_core_web_sm\")\n",
        "sentences = [\n",
        "    (\"Leonard Simon Nimoy was born in Boston.\"),\n",
        "    (\"Nimoy played Spock.\"),\n",
        "    (\"Spock is a character in the Star Trek franchise.\"),\n",
        "    (\"Star Trek was created by the great Eugene Wesley Roddenberry.\")]\n",
        "for sent in sentences:\n",
        "  doc = nlp(sent)\n",
        "  print(doc.text)\n",
        "  for token in doc:\n",
        "    print(token.text, token.pos_, token.dep_)\n",
        "\n",
        "displacy.render(doc, style=\"dep\")"
      ]
    },
    {
      "cell_type": "code",
      "source": [
        "# Task 1 - Entity Pair Extraction\n",
        "# from spacy.symbols import nsubj, pobj, VERB\n",
        "\n",
        "def extract_entity_pairs(sent):\n",
        "  nlp = spacy.load(\"en_core_web_sm\")\n",
        "  doc = nlp(sent)\n",
        "  subj = []\n",
        "  obj = []\n",
        "  for token in doc:\n",
        "    # Find the subject and its preceding 'subject' words and concatenate them\n",
        "    if \"subj\" in token.dep_:\n",
        "      subj.append(token)\n",
        "      subj = \" \".join(subtoken.text for subtoken in token.subtree if subtoken.pos_ not in (\"DET\", \"ADJ\", \"ADP\", \"VERB\") and \"obj\" not in subtoken.dep_)\n",
        "    # Find the object and its preceding 'object' words and concatenate them\n",
        "    elif \"obj\" in token.dep_:\n",
        "      obj.append(token)\n",
        "      obj = \" \".join(subtoken.text for subtoken in token.subtree if subtoken.pos_ not in (\"DET\", \"ADJ\", \"ADP\", \"VERB\") and \"subj\" not in subtoken.dep_)\n",
        "  return subj, obj\n",
        "\n",
        "for sent in sentences:\n",
        "  subj, obj = extract_entity_pairs(sent)\n",
        "  print(\"Subject: \", subj)\n",
        "  print(\"Object: \", obj)"
      ],
      "metadata": {
        "colab": {
          "base_uri": "https://localhost:8080/"
        },
        "id": "0xC8Xdj36ug3",
        "outputId": "b53c9652-0ae7-48a8-9a17-ea968fd7cf42"
      },
      "execution_count": null,
      "outputs": [
        {
          "output_type": "stream",
          "name": "stdout",
          "text": [
            "Subject:  [Nimoy]\n",
            "Object:  [Boston]\n",
            "Subject:  [Nimoy]\n",
            "Object:  [Spock]\n",
            "Subject:  [Spock]\n",
            "Object:  [franchise]\n",
            "Subject:  [Trek]\n",
            "Object:  [Roddenberry]\n"
          ]
        }
      ]
    },
    {
      "cell_type": "code",
      "source": [
        "# Task 2 - Relation Extraction\n",
        "# from spacy.symbols import nsubj, VERB\n",
        "from spacy.matcher import Matcher\n",
        "\n",
        "def extract_relation(sent):\n",
        "  nlp = spacy.load(\"en_core_web_sm\")\n",
        "  doc = nlp(sent)\n",
        "  matcher = Matcher(nlp.vocab)\n",
        "  reln = []\n",
        "\n",
        "  pattern = [\n",
        "        [ # Find verbs prefaced with auxiliary words, possibly\n",
        "          # followed by determiners and definitely followed by nouns.\n",
        "          # This assumes the verb is a whole phrase such\n",
        "          # as \"is a\"/\"was a\" in lieu of single word verbs.\n",
        "            {\"POS\": \"AUX\"},\n",
        "            {\"POS\": \"DET\", \"OP\": \"?\"},\n",
        "            {\"POS\": \"NOUN\", \"OP\": \"+\"}\n",
        "        ],\n",
        "        [ # Find the verb first and then find following adverbs and\n",
        "          # adpositions. This approach attempts to find verbs\n",
        "          # preceding the head/tail of a sentence.\n",
        "            {\"POS\": \"VERB\"},\n",
        "            {\"POS\": \"ADV\", \"OP\": \"*\"},\n",
        "            {\"POS\": \"ADP\", \"OP\": \"?\"} # 'at', 'by', 'in'\n",
        "        ],\n",
        "        [ # Find verbs like 'be'\n",
        "            {\"POS\": \"AUX\", \"DEP\": \"ROOT\"}\n",
        "        ]\n",
        "  ]\n",
        "\n",
        "  for p in pattern:\n",
        "    matcher.add(\"RELATION\", [p])\n",
        "\n",
        "  matches = matcher(doc)\n",
        "  for match_id, start, end in matches:\n",
        "    span = doc[start:end]\n",
        "    reln.append(span.text)\n",
        "\n",
        "  return reln[-1]\n",
        "\n",
        "for sent in sentences:\n",
        "  print(extract_relation(sent))"
      ],
      "metadata": {
        "colab": {
          "base_uri": "https://localhost:8080/"
        },
        "id": "3Sd7W_uGW91W",
        "outputId": "41f31d9a-d3e2-437e-caca-332198e803af"
      },
      "execution_count": null,
      "outputs": [
        {
          "output_type": "stream",
          "name": "stdout",
          "text": [
            "born in\n",
            "played\n",
            "is a character\n",
            "created by\n"
          ]
        }
      ]
    },
    {
      "cell_type": "code",
      "source": [
        "# Task 3 - Triple Extraction\n",
        "\n",
        "# Combining previous 2 extraction functions into 1\n",
        "def extract_triple(sent):\n",
        "  head, tail = extract_entity_pairs(sent)\n",
        "  relation = extract_relation(sent)\n",
        "  return head, relation, tail\n",
        "\n",
        "for sent in sentences:\n",
        "  head, relation, tail = extract_triple(sent)\n",
        "  print(head, relation, tail)"
      ],
      "metadata": {
        "colab": {
          "base_uri": "https://localhost:8080/"
        },
        "id": "z_KB4xPj3NeW",
        "outputId": "f501a2c9-5f87-419b-beee-a9519c886a43"
      },
      "execution_count": null,
      "outputs": [
        {
          "output_type": "stream",
          "name": "stdout",
          "text": [
            "[Nimoy] born in [Boston]\n",
            "[Nimoy] played [Spock]\n",
            "[Spock] is a character [franchise]\n",
            "[Trek] created by [Roddenberry]\n"
          ]
        }
      ]
    },
    {
      "cell_type": "code",
      "source": [
        "# Optional self challenge 1\n",
        "\n",
        "ambig = \"A wonderland full of neverending adventure can be very dull.\"\n",
        "doc = nlp(ambig)\n",
        "for token in doc:\n",
        "  print(token.text, token.pos_, token.dep_)\n",
        "head, relation, tail = extract_triple(ambig)\n",
        "print(\"Head: \", head, \"\\nRelation: \", relation, \"\\nTail: \", tail)"
      ],
      "metadata": {
        "colab": {
          "base_uri": "https://localhost:8080/"
        },
        "id": "nasEs5I8fVZ9",
        "outputId": "1b16d68d-93fa-48cd-c0ca-fc417ac8e9ca"
      },
      "execution_count": null,
      "outputs": [
        {
          "output_type": "stream",
          "name": "stdout",
          "text": [
            "A DET det\n",
            "wonderland NOUN nsubj\n",
            "full ADJ amod\n",
            "of ADP prep\n",
            "neverending VERB compound\n",
            "adventure NOUN pobj\n",
            "can AUX aux\n",
            "be AUX ROOT\n",
            "very ADV advmod\n",
            "dull ADJ acomp\n",
            ". PUNCT punct\n",
            "Head:  [wonderland] \n",
            "Relation:  be \n",
            "Tail:  [adventure]\n"
          ]
        }
      ]
    },
    {
      "cell_type": "code",
      "source": [
        "# Optional self challenge 2\n",
        "\n",
        "ambig = \"The beginning only happens after the end.\"\n",
        "doc = nlp(ambig)\n",
        "for token in doc:\n",
        "  print(token.text, token.pos_, token.dep_)\n",
        "head, relation, tail = extract_triple(ambig)\n",
        "print(\"Head: \", head, \"\\nRelation: \", relation, \"\\nTail: \", tail)"
      ],
      "metadata": {
        "colab": {
          "base_uri": "https://localhost:8080/"
        },
        "id": "FRPxvH7SKkt_",
        "outputId": "b12d57c5-4024-4501-f231-bde9f818b13b"
      },
      "execution_count": null,
      "outputs": [
        {
          "output_type": "stream",
          "name": "stdout",
          "text": [
            "The DET det\n",
            "beginning NOUN nsubj\n",
            "only ADV advmod\n",
            "happens VERB ROOT\n",
            "after ADP prep\n",
            "the DET det\n",
            "end NOUN pobj\n",
            ". PUNCT punct\n",
            "Head:  [beginning] \n",
            "Relation:  happens after \n",
            "Tail:  [end]\n"
          ]
        }
      ]
    },
    {
      "cell_type": "code",
      "source": [
        "# Optional self challenge 3\n",
        "\n",
        "ambig = \"Life is but a wondrous gift.\"\n",
        "doc = nlp(ambig)\n",
        "for token in doc:\n",
        "  print(token.text, token.pos_, token.dep_)\n",
        "head, relation, tail = extract_triple(ambig)\n",
        "print(\"Head: \", head, \"\\nRelation: \", relation, \"\\nTail: \", tail)"
      ],
      "metadata": {
        "colab": {
          "base_uri": "https://localhost:8080/"
        },
        "id": "_C7vwVlGMaey",
        "outputId": "607a2848-23b6-4057-d59c-5e7d561253fa"
      },
      "execution_count": null,
      "outputs": [
        {
          "output_type": "stream",
          "name": "stdout",
          "text": [
            "Life NOUN nsubj\n",
            "is AUX ROOT\n",
            "but CCONJ cc\n",
            "a DET det\n",
            "wondrous ADJ amod\n",
            "gift NOUN attr\n",
            ". PUNCT punct\n",
            "Head:  [Life] \n",
            "Relation:  is \n",
            "Tail:  []\n"
          ]
        }
      ]
    },
    {
      "cell_type": "code",
      "source": [
        "# Optional self challenge 4 - unable to resolve handling multiple subjects\n",
        "\n",
        "# ambig = \"The end is just the beginning, and this story must end.\"\n",
        "# doc = nlp(ambig)\n",
        "# for token in doc:\n",
        "#   print(token.text, token.pos_, token.dep_)\n",
        "# head, relation, tail = extract_triple(ambig)\n",
        "# print(\"Head: \", head, \"\\nRelation: \", relation, \"\\nTail: \", tail)"
      ],
      "metadata": {
        "colab": {
          "base_uri": "https://localhost:8080/"
        },
        "id": "WNmsnpmCywZu",
        "outputId": "e3e80763-2714-48be-8e77-f555c757a63f"
      },
      "execution_count": null,
      "outputs": [
        {
          "output_type": "stream",
          "name": "stdout",
          "text": [
            "The DET det\n",
            "end NOUN nsubj\n",
            "is AUX ROOT\n",
            "just ADV advmod\n",
            "the DET det\n",
            "beginning NOUN attr\n",
            ", PUNCT punct\n",
            "and CCONJ cc\n",
            "this DET det\n",
            "story NOUN nsubj\n",
            "must AUX aux\n",
            "end VERB conj\n",
            ". PUNCT punct\n",
            "Head:  [end, story] \n",
            "Relation:  end \n",
            "Tail:  []\n"
          ]
        }
      ]
    },
    {
      "cell_type": "markdown",
      "source": [
        "One of the first things I did in this assignment was to have the spaCy read and parse the given sentences to understand where each of the words lie in its classifications. This allows me to have an initial understanding of the tasks.\n",
        "\n",
        "The second thing I did was to read on spaCy's documentation and attempt to learn how to use it to parse sentences myself and attempt to extract the head/subject and tail/object of any given sentence. This was somewhat rather difficult as spaCy documentation only provided examples for navigating the trees mainly using .lefts and .rights rather than filtering by dependency labels and POS tags.\n",
        "\n",
        "The third thing I did was to try and understand matcher as well as the arguments it took and how to use them to filter out the verb(s) within the sentences, both including and excluding. This was most apparent in the first self challenge sentence as several problems were not addressed in the initial code of this assignment.\n",
        "\n",
        "Thankfully, adapting the code to fit the self challenges did not make any notable differences to the output of the given sentences and they still match the expected output."
      ],
      "metadata": {
        "id": "ODrGA730LLnT"
      }
    }
  ]
}